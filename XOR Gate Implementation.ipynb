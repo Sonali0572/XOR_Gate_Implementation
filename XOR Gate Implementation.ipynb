{
 "cells": [
  {
   "cell_type": "markdown",
   "metadata": {},
   "source": [
    "<H1>Basic numpy implementation of XOR logic gate</H1> "
   ]
  },
  {
   "cell_type": "code",
   "execution_count": 1,
   "metadata": {},
   "outputs": [],
   "source": [
    "#import numpy library\n",
    "import numpy as np"
   ]
  },
  {
   "cell_type": "markdown",
   "metadata": {},
   "source": [
    "The activation function sigmoid transformes the input to the function into a value between 0 and 1. Since, the output of the XOR function is computed as a binary, thus it will be used for hidden layer units as well as output layer."
   ]
  },
  {
   "cell_type": "code",
   "execution_count": 2,
   "metadata": {},
   "outputs": [],
   "source": [
    "#sigmoid activation function\n",
    "def sigmoid(x):\n",
    "    return 1/(1+np.exp(-x))"
   ]
  },
  {
   "cell_type": "code",
   "execution_count": 3,
   "metadata": {},
   "outputs": [],
   "source": [
    "#derivative of sigmoid function computed\n",
    "def sigmoid_deriv(x):\n",
    "    return sigmoid(x)*(1-sigmoid(x))"
   ]
  },
  {
   "cell_type": "markdown",
   "metadata": {},
   "source": [
    "In forward propagation, the function propagates through the layers of the network computing 'A' and 'Z' values until we reach the end of the network to achieve the final output 'Y'."
   ]
  },
  {
   "cell_type": "code",
   "execution_count": 4,
   "metadata": {},
   "outputs": [],
   "source": [
    "#Forward Propagation\n",
    "def forward(x,w1,w2):\n",
    "    a1 = np.dot(w1,x)\n",
    "    z1 = sigmoid(a1) \n",
    "    a2 = np.dot(w2,z1)\n",
    "    z2 = sigmoid(a2)\n",
    "    return a1,z1,a2,z2"
   ]
  },
  {
   "cell_type": "markdown",
   "metadata": {},
   "source": [
    "In backpropagation, we calculate the loss in every iteration for each layer and update the weights accordingly in order to minimize the loss function value."
   ]
  },
  {
   "cell_type": "code",
   "execution_count": 5,
   "metadata": {},
   "outputs": [],
   "source": [
    "#Backpropagation\n",
    "def backprop(w1,w2,a1,a2,z1,z2,y):\n",
    "    delta2 = z2-y\n",
    "    Delta2 = np.dot(delta2,z1.T)\n",
    "    delta1 = np.dot(w2.T,delta2)*sigmoid_deriv(a1)\n",
    "    Delta1 = np.dot(delta1,x.T)\n",
    "    \n",
    "    Delta1 = np.reshape(Delta1,w1.shape)\n",
    "    Delta2 = np.reshape(Delta2,w2.shape)\n",
    "    \n",
    "    return delta2,Delta2,delta1,Delta1"
   ]
  },
  {
   "cell_type": "markdown",
   "metadata": {},
   "source": [
    "The input of the XOR gate is given as matrix x and the required output as matrix y. The weights are initialized with random values which will be updated later by backpropagation. "
   ]
  },
  {
   "cell_type": "code",
   "execution_count": 6,
   "metadata": {},
   "outputs": [],
   "source": [
    "#input data\n",
    "x = np.array([[0,0,1,1],[0,1,0,1]])\n",
    "y = np.array([0,1,1,0])\n",
    "w1 = np.random.rand(2,2)\n",
    "w2 = np.random.rand(1,2)"
   ]
  },
  {
   "cell_type": "code",
   "execution_count": 7,
   "metadata": {},
   "outputs": [],
   "source": [
    "lr = 0.09 #learning rate for backpropagation\n",
    "costs = []\n",
    "#One epoch is formed by one forward and one backward propagation\n",
    "epochs = 15000 #Number of epochs\n",
    "m = len(x) #number of training examples"
   ]
  },
  {
   "cell_type": "markdown",
   "metadata": {},
   "source": [
    "Now, we run the model for 15000 epochs and calculate the loss. "
   ]
  },
  {
   "cell_type": "code",
   "execution_count": 8,
   "metadata": {},
   "outputs": [],
   "source": [
    "#training algorithm\n",
    "for i in range(epochs):\n",
    "    #performing forward propagation\n",
    "    a1,z1,a2,z2 = forward(x,w1,w2)\n",
    "    #loss calculation\n",
    "    c = -(1/m)*np.sum(y*np.log(z2)+(1-y)*np.log(1-z2)) \n",
    "    costs.append(c)\n",
    "    #performing backpropagation\n",
    "    delta2,Delta2,delta1,Delta1 = backprop(w1,w2,a1,a2,z1,z2,y)\n",
    "    #update weights\n",
    "    w1-=lr*(1/m)*Delta1\n",
    "    w2-=lr*(1/m)*Delta2"
   ]
  },
  {
   "cell_type": "markdown",
   "metadata": {},
   "source": [
    "Plotting the loss function in order to see how the model is doing"
   ]
  },
  {
   "cell_type": "code",
   "execution_count": 10,
   "metadata": {},
   "outputs": [
    {
     "data": {
      "image/png": "[encoded data removed]",
      "text/plain": [
       "<Figure size 432x288 with 1 Axes>"
      ]
     },
     "metadata": {},
     "output_type": "display_data"
    }
   ],
   "source": [
    "import matplotlib.pyplot as plt\n",
    "plt.plot(costs)\n",
    "plt.xlabel(\"EPOCHS\")\n",
    "plt.ylabel(\"Loss value\")\n",
    "plt.show()"
   ]
  },
  {
   "cell_type": "markdown",
   "metadata": {},
   "source": [
    "Thus, this graph shows that the loss function is decreasing for every iteration."
   ]
  },
  {
   "cell_type": "markdown",
   "metadata": {},
   "source": [
    "After the training, let's see how our model is doing."
   ]
  },
  {
   "cell_type": "code",
   "execution_count": 11,
   "metadata": {},
   "outputs": [],
   "source": [
    "def predict(input):\n",
    "    a1,z1,a2,z2 = forward(input,w1,w2)\n",
    "    z2 = np.squeeze(z2)\n",
    "    if z2>=0.5:\n",
    "        print(z2)\n",
    "        print(\"For input\", [i[0] for i in input], \"output is 1\")\n",
    "    else:\n",
    "        print(z2)\n",
    "        print(\"For input\", [i[0] for i in input], \"output is 0\")"
   ]
  },
  {
   "cell_type": "markdown",
   "metadata": {},
   "source": [
    "Finally, we verify the predicted ouput of the trained model."
   ]
  },
  {
   "cell_type": "code",
   "execution_count": 12,
   "metadata": {},
   "outputs": [
    {
     "name": "stdout",
     "output_type": "stream",
     "text": [
      "0.05223252674735348\n",
      "For input [0, 0] output is 0\n",
      "0.8971315996127992\n",
      "For input [0, 1] output is 1\n",
      "0.89713174075504\n",
      "For input [1, 0] output is 1\n",
      "0.1633714460854362\n",
      "For input [1, 1] output is 0\n"
     ]
    }
   ],
   "source": [
    "test = np.array([[0],[0]])\n",
    "predict(test)\n",
    "test = np.array([[0],[1]])\n",
    "predict(test)\n",
    "test = np.array([[1],[0]])\n",
    "predict(test)\n",
    "test = np.array([[1],[1]])\n",
    "predict(test)"
   ]
  },
  {
   "cell_type": "code",
   "execution_count": null,
   "metadata": {},
   "outputs": [],
   "source": []
  }
 ],
 "metadata": {
  "kernelspec": {
   "display_name": "Python 3",
   "language": "python",
   "name": "python3"
  },
  "language_info": {
   "codemirror_mode": {
    "name": "ipython",
    "version": 3
   },
   "file_extension": ".py",
   "mimetype": "text/x-python",
   "name": "python",
   "nbconvert_exporter": "python",
   "pygments_lexer": "ipython3",
   "version": "3.6.5"
  }
 },
 "nbformat": 4,
 "nbformat_minor": 2
}
